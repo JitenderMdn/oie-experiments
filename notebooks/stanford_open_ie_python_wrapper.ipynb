{
 "cells": [
  {
   "cell_type": "code",
   "execution_count": 11,
   "metadata": {},
   "outputs": [],
   "source": [
    "import os\n",
    "import uuid\n",
    "from subprocess import Popen\n",
    "from sys import stderr"
   ]
  },
  {
   "cell_type": "code",
   "execution_count": 12,
   "metadata": {},
   "outputs": [],
   "source": [
    "JAVA_BIN_PATH = 'java'\n",
    "STANFORD_IE_FOLDER = '/Users/krishna.aruru/Stanford-OpenIE-Python/stanford-openie'"
   ]
  },
  {
   "cell_type": "code",
   "execution_count": 13,
   "metadata": {},
   "outputs": [],
   "source": [
    "tmp_folder = \"/tmp/openie\"\n",
    "if not os.path.exists(tmp_folder):\n",
    "    os.makedirs(tmp_folder)"
   ]
  },
  {
   "cell_type": "code",
   "execution_count": 14,
   "metadata": {},
   "outputs": [],
   "source": [
    "def process_entity_relations(entity_relationships_str):\n",
    "    relations = []\n",
    "    for relation in entity_relationships_str:\n",
    "        tuple_start = relation.find(\"(\") + 1\n",
    "        tuple_end = relation.find(\")\")\n",
    "        tup = relation[tuple_start:tuple_end].split(\";\")\n",
    "        relations.append(tup)\n",
    "    return relations"
   ]
  },
  {
   "cell_type": "code",
   "execution_count": 15,
   "metadata": {},
   "outputs": [],
   "source": [
    "def stanford_ie(sentences):\n",
    "    assert type(sentences) == list, 'Error: the input to this method should be a list of strings'\n",
    "    id_ = str(uuid.uuid4())\n",
    "    input_file = os.path.join(tmp_folder, \"{}_in.txt\".format(id_))\n",
    "    output_file = os.path.join(tmp_folder, \"{}_out.txt\".format(id_))\n",
    "    err_file = os.path.join(tmp_folder, \"err.txt\")\n",
    "    \n",
    "    with open(input_file, \"w\") as fw:\n",
    "        for sentence in sentences:\n",
    "            fw.write(sentence)\n",
    "            fw.write(\"\\n\")\n",
    "    \n",
    "    command = 'cd {}; {} -mx4g -cp \"stanford-openie.jar:stanford-openie-models.jar:lib/*\" '\\\n",
    "              'edu.stanford.nlp.naturalli.OpenIE {} -format ollie > {}'.format(\n",
    "                STANFORD_IE_FOLDER, JAVA_BIN_PATH, input_file, output_file\n",
    "              )\n",
    "    print(\"Executing command: {}\".format(command))\n",
    "    process = Popen(command, stdout=open(err_file, \"wb\"), shell=True)\n",
    "    process.wait()\n",
    "    assert not process.returncode, 'Error: The command returned with a non 0 return code'\n",
    "    \n",
    "    os.remove(input_file)\n",
    "    with open(output_file, \"r\") as fr:\n",
    "        raw_results = fr.readlines()\n",
    "    os.remove(output_file)\n",
    "    \n",
    "    results = process_entity_relations(raw_results)\n",
    "    return results\n",
    "\n",
    "    "
   ]
  },
  {
   "cell_type": "code",
   "execution_count": null,
   "metadata": {},
   "outputs": [],
   "source": []
  },
  {
   "cell_type": "code",
   "execution_count": null,
   "metadata": {},
   "outputs": [],
   "source": []
  },
  {
   "cell_type": "code",
   "execution_count": null,
   "metadata": {},
   "outputs": [],
   "source": []
  }
 ],
 "metadata": {
  "kernelspec": {
   "display_name": "Python 3",
   "language": "python",
   "name": "python3"
  },
  "language_info": {
   "codemirror_mode": {
    "name": "ipython",
    "version": 3
   },
   "file_extension": ".py",
   "mimetype": "text/x-python",
   "name": "python",
   "nbconvert_exporter": "python",
   "pygments_lexer": "ipython3",
   "version": "3.7.2"
  }
 },
 "nbformat": 4,
 "nbformat_minor": 2
}
