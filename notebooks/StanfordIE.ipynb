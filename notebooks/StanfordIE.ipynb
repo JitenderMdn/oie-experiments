{
 "cells": [
  {
   "cell_type": "code",
   "execution_count": 377,
   "metadata": {},
   "outputs": [],
   "source": [
    "import subprocess\n",
    "import os\n",
    "import pexpect\n",
    "import sys\n",
    "import time\n",
    "from nltk import ngrams\n",
    "from nltk import word_tokenize"
   ]
  },
  {
   "cell_type": "code",
   "execution_count": 379,
   "metadata": {},
   "outputs": [
    {
     "name": "stdout",
     "output_type": "stream",
     "text": [
      "[nltk_data] Downloading package punkt to\n",
      "[nltk_data]     /Users/kumar.jitender/nltk_data...\n",
      "[nltk_data]   Unzipping tokenizers/punkt.zip.\n"
     ]
    },
    {
     "data": {
      "text/plain": [
       "True"
      ]
     },
     "execution_count": 379,
     "metadata": {},
     "output_type": "execute_result"
    }
   ],
   "source": [
    "nltk.download('punkt')"
   ]
  },
  {
   "cell_type": "code",
   "execution_count": 447,
   "metadata": {},
   "outputs": [
    {
     "data": {
      "text/plain": [
       "'Adding annotator tokenize\\nAdding annotator ssplit\\nAdding annotator pos\\nLoading POS tagger from edu/stanford/nlp/models/pos-tagger/english-left3words/english-left3words-distsim.tagger ... done [0.7 sec].\\nAdding annotator lemma\\nAdding annotator depparse\\nLoading depparse model file: edu/stanford/nlp/models/parser/nndep/english_UD.gz ... \\nPreComputed 99996, Elapsed Time: 12.551 (s)\\nInitializing dependency parser ... done [13.6 sec].\\nAdding annotator natlog\\nAdding annotator openie\\nLoading clause splitter from edu/stanford/nlp/models/naturalli/clauseSearcherModel.ser.gz ... done [0.0093 seconds]\\nProcessing from stdin. Enter one sentence per line.\\nNo extractions in: Milo Blah Blah\\n'"
      ]
     },
     "execution_count": 447,
     "metadata": {},
     "output_type": "execute_result"
    }
   ],
   "source": [
    "fw = open(\"tmpout\", \"wb\")\n",
    "fr = open(\"tmpout\", \"r\")\n",
    "\n",
    "proc = subprocess.Popen(['java', \"-mx8g\", \"-cp\", \"/Users/kumar.jitender/Downloads/stanford-corenlp-full-2017-06-09/stanford-corenlp-3.8.0.jar:/Users/kumar.jitender/Downloads/stanford-corenlp-full-2017-06-09/stanford-corenlp-3.8.0-models.jar:/Users/kumar.jitender/Downloads/stanford-corenlp-full-2017-06-09/CoreNLP-to-HTML.xsl:slf4j-api.jar:/Users/kumar.jitender/Downloads/stanford-corenlp-full-2017-06-09/slf4j-simple.jar\", \"edu.stanford.nlp.naturalli.OpenIE\",  \"-threads\",  \"8\", \"-ignore_affinity\", \"true\",  \"-ssplit.newlineIsSentenceBreak\", \"always\", \"-format\", \"ollie\"], stdout=fw, stderr=fw, stdin=subprocess.PIPE)\n",
    "\n",
    "proc.stdin.write(\"Milo Blah Blah\\n\")\n",
    "proc.stdin.flush()\n",
    "\n",
    "# Waiting for the model to load properly\n",
    "time.sleep(20)\n",
    "# Discarding initial Output\n",
    "fr.read()"
   ]
  },
  {
   "cell_type": "code",
   "execution_count": 467,
   "metadata": {},
   "outputs": [
    {
     "name": "stdout",
     "output_type": "stream",
     "text": [
      "Instead of a warm\n",
      "of a warm jacket,\n",
      "a warm jacket, Malaika\n",
      "warm jacket, Malaika Arora\n",
      "jacket, Malaika Arora kept\n",
      "Malaika Arora kept her\n",
      "Arora kept her look\n",
      "kept her look more\n",
      "her look more casual\n",
      "look more casual with\n",
      "more casual with a\n",
      "casual with a white\n",
      "with a white Balmain\n",
      "a white Balmain T-shirt.\n",
      "Instead of a warm jacket,\n",
      "of a warm jacket, Malaika\n",
      "a warm jacket, Malaika Arora\n",
      "warm jacket, Malaika Arora kept\n",
      "jacket, Malaika Arora kept her\n",
      "Malaika Arora kept her look\n",
      "Arora kept her look more\n",
      "kept her look more casual\n",
      "her look more casual with\n",
      "look more casual with a\n",
      "more casual with a white\n",
      "casual with a white Balmain\n",
      "with a white Balmain T-shirt.\n",
      "Instead of a warm jacket, Malaika\n",
      "of a warm jacket, Malaika Arora\n",
      "a warm jacket, Malaika Arora kept\n",
      "warm jacket, Malaika Arora kept her\n",
      "jacket, Malaika Arora kept her look\n",
      "Malaika Arora kept her look more\n",
      "Arora kept her look more casual\n",
      "kept her look more casual with\n",
      "her look more casual with a\n",
      "look more casual with a white\n",
      "more casual with a white Balmain\n",
      "casual with a white Balmain T-shirt.\n",
      "Instead of a warm jacket, Malaika Arora\n",
      "of a warm jacket, Malaika Arora kept\n",
      "a warm jacket, Malaika Arora kept her\n",
      "warm jacket, Malaika Arora kept her look\n",
      "jacket, Malaika Arora kept her look more\n",
      "Malaika Arora kept her look more casual\n",
      "Arora kept her look more casual with\n",
      "kept her look more casual with a\n",
      "her look more casual with a white\n",
      "look more casual with a white Balmain\n",
      "more casual with a white Balmain T-shirt.\n",
      "Instead of a warm jacket, Malaika Arora kept\n",
      "of a warm jacket, Malaika Arora kept her\n",
      "a warm jacket, Malaika Arora kept her look\n",
      "warm jacket, Malaika Arora kept her look more\n",
      "jacket, Malaika Arora kept her look more casual\n",
      "Malaika Arora kept her look more casual with\n",
      "Arora kept her look more casual with a\n",
      "kept her look more casual with a white\n",
      "her look more casual with a white Balmain\n",
      "look more casual with a white Balmain T-shirt.\n",
      "Instead of a warm jacket, Malaika Arora kept her\n",
      "of a warm jacket, Malaika Arora kept her look\n",
      "a warm jacket, Malaika Arora kept her look more\n",
      "warm jacket, Malaika Arora kept her look more casual\n",
      "jacket, Malaika Arora kept her look more casual with\n",
      "Malaika Arora kept her look more casual with a\n",
      "Arora kept her look more casual with a white\n",
      "kept her look more casual with a white Balmain\n",
      "her look more casual with a white Balmain T-shirt.\n",
      "Instead of a warm jacket, Malaika Arora kept her look\n",
      "of a warm jacket, Malaika Arora kept her look more\n",
      "a warm jacket, Malaika Arora kept her look more casual\n",
      "warm jacket, Malaika Arora kept her look more casual with\n",
      "jacket, Malaika Arora kept her look more casual with a\n",
      "Malaika Arora kept her look more casual with a white\n",
      "Arora kept her look more casual with a white Balmain\n",
      "kept her look more casual with a white Balmain T-shirt.\n",
      "Instead of a warm jacket, Malaika Arora kept her look more\n",
      "of a warm jacket, Malaika Arora kept her look more casual\n",
      "a warm jacket, Malaika Arora kept her look more casual with\n",
      "warm jacket, Malaika Arora kept her look more casual with a\n",
      "jacket, Malaika Arora kept her look more casual with a white\n",
      "Malaika Arora kept her look more casual with a white Balmain\n",
      "Arora kept her look more casual with a white Balmain T-shirt.\n",
      "Instead of a warm jacket, Malaika Arora kept her look more casual\n",
      "of a warm jacket, Malaika Arora kept her look more casual with\n",
      "a warm jacket, Malaika Arora kept her look more casual with a\n",
      "warm jacket, Malaika Arora kept her look more casual with a white\n",
      "jacket, Malaika Arora kept her look more casual with a white Balmain\n",
      "Malaika Arora kept her look more casual with a white Balmain T-shirt.\n",
      "Instead of a warm jacket, Malaika Arora kept her look more casual with\n",
      "of a warm jacket, Malaika Arora kept her look more casual with a\n",
      "a warm jacket, Malaika Arora kept her look more casual with a white\n",
      "warm jacket, Malaika Arora kept her look more casual with a white Balmain\n",
      "jacket, Malaika Arora kept her look more casual with a white Balmain T-shirt.\n",
      "Instead of a warm jacket, Malaika Arora kept her look more casual with a\n",
      "of a warm jacket, Malaika Arora kept her look more casual with a white\n",
      "a warm jacket, Malaika Arora kept her look more casual with a white Balmain\n",
      "warm jacket, Malaika Arora kept her look more casual with a white Balmain T-shirt.\n",
      "Instead of a warm jacket, Malaika Arora kept her look more casual with a white\n",
      "of a warm jacket, Malaika Arora kept her look more casual with a white Balmain\n",
      "a warm jacket, Malaika Arora kept her look more casual with a white Balmain T-shirt.\n",
      "Instead of a warm jacket, Malaika Arora kept her look more casual with a white Balmain\n",
      "of a warm jacket, Malaika Arora kept her look more casual with a white Balmain T-shirt.\n",
      "Instead of a warm jacket, Malaika Arora kept her look more casual with a white Balmain T-shirt.\n"
     ]
    }
   ],
   "source": [
    "# Writing Sample String\n",
    "\n",
    "sentence = \"Instead of a warm jacket, Malaika Arora kept her look more casual with a white Balmain T-shirt.\"\n",
    "\n",
    "no_of_tokens = len(nltk.word_tokenize(sentence))\n",
    "\n",
    "for iter in range(4, no_of_tokens):\n",
    "#     n = 20\n",
    "    sixgrams = ngrams(sentence.split(), iter)\n",
    "    new_list = [' '.join(words) for words in sixgrams] \n",
    "    for gram in new_list:\n",
    "        print gram    \n",
    "        proc.stdin.write( gram + \"\\n\")\n",
    "    proc.stdin.flush()"
   ]
  },
  {
   "cell_type": "code",
   "execution_count": 466,
   "metadata": {},
   "outputs": [
    {
     "name": "stdout",
     "output_type": "stream",
     "text": [
      "First line\n"
     ]
    }
   ],
   "source": [
    "# Reading extractions from output line by line\n",
    "\n",
    "myset={\"First line\"}\n",
    "for line in fr.read().splitlines():\n",
    "    if 'No extractions in' not in line:\n",
    "        myset.add(line)\n",
    "\n",
    "for elem in myset:\n",
    "    print elem"
   ]
  },
  {
   "cell_type": "code",
   "execution_count": 430,
   "metadata": {},
   "outputs": [],
   "source": [
    "proc.stdin.write(\"A Dog has four legs\\n\")\n",
    "proc.stdin.flush()"
   ]
  },
  {
   "cell_type": "code",
   "execution_count": 431,
   "metadata": {},
   "outputs": [
    {
     "name": "stdout",
     "output_type": "stream",
     "text": [
      "\n"
     ]
    }
   ],
   "source": [
    "print fr.read()"
   ]
  },
  {
   "cell_type": "code",
   "execution_count": 392,
   "metadata": {},
   "outputs": [],
   "source": [
    "myset=set()"
   ]
  },
  {
   "cell_type": "code",
   "execution_count": 474,
   "metadata": {},
   "outputs": [
    {
     "name": "stdout",
     "output_type": "stream",
     "text": [
      "set([])\n"
     ]
    }
   ],
   "source": [
    "sentence = \"Instead of a warm jacket, Malaika Arora kept her look more casual with a white Balmain T-shirt.\"\n",
    "nouns = set()\n",
    "for word,pos in nltk.pos_tag(nltk.word_tokenize(str(sentence))):\n",
    "         if (pos == 'NP'):\n",
    "             nouns.add(word)\n",
    "print nouns"
   ]
  },
  {
   "cell_type": "code",
   "execution_count": null,
   "metadata": {},
   "outputs": [],
   "source": []
  }
 ],
 "metadata": {
  "kernelspec": {
   "display_name": "Python [default]",
   "language": "python",
   "name": "python2"
  },
  "language_info": {
   "codemirror_mode": {
    "name": "ipython",
    "version": 2
   },
   "file_extension": ".py",
   "mimetype": "text/x-python",
   "name": "python",
   "nbconvert_exporter": "python",
   "pygments_lexer": "ipython2",
   "version": "2.7.15"
  }
 },
 "nbformat": 4,
 "nbformat_minor": 2
}
